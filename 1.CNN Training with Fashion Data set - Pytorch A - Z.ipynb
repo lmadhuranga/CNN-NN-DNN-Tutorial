{
  "nbformat": 4,
  "nbformat_minor": 0,
  "metadata": {
    "colab": {
      "name": "Untitled4.ipynb",
      "version": "0.3.2",
      "provenance": [],
      "collapsed_sections": []
    },
    "kernelspec": {
      "name": "python3",
      "display_name": "Python 3"
    }
  },
  "cells": [
    {
      "cell_type": "markdown",
      "metadata": {
        "id": "QcCuQg_sLtSf",
        "colab_type": "text"
      },
      "source": [
        "# CNN Training with Fashion Data set - Pytorch A - Z"
      ]
    },
    {
      "cell_type": "code",
      "metadata": {
        "id": "5hx5mp8WFcVn",
        "colab_type": "code",
        "colab": {
          "base_uri": "https://localhost:8080/",
          "height": 35
        },
        "outputId": "76a63b28-a5b6-4571-b622-8d1d9fe3e623"
      },
      "source": [
        "import torch\n",
        "import torch.nn as nn \n",
        "import torch.nn.functional as F\n",
        "import torch.optim as optim\n",
        "\n",
        "import torchvision\n",
        "import torchvision.transforms as tranforms\n",
        "\n",
        "torch.set_printoptions(linewidth=120)  # Displa optin for output\n",
        "torch.set_grad_enabled(True) # Already on by default"
      ],
      "execution_count": 49,
      "outputs": [
        {
          "output_type": "execute_result",
          "data": {
            "text/plain": [
              "<torch.autograd.grad_mode.set_grad_enabled at 0x7f074a361c50>"
            ]
          },
          "metadata": {
            "tags": []
          },
          "execution_count": 49
        }
      ]
    },
    {
      "cell_type": "code",
      "metadata": {
        "id": "nk-eQZlLHbDb",
        "colab_type": "code",
        "colab": {
          "base_uri": "https://localhost:8080/",
          "height": 54
        },
        "outputId": "4409812f-49f7-474b-9e12-591cfcb4eb4f"
      },
      "source": [
        "print(torch.__version__)\n",
        "print(torchvision.__version__)"
      ],
      "execution_count": 50,
      "outputs": [
        {
          "output_type": "stream",
          "text": [
            "1.1.0\n",
            "0.3.0\n"
          ],
          "name": "stdout"
        }
      ]
    },
    {
      "cell_type": "code",
      "metadata": {
        "id": "6KJPGY6-HbAH",
        "colab_type": "code",
        "colab": {}
      },
      "source": [
        "def get_num_correct(preds, labels):\n",
        "    return preds.argmax(dim=1).eq(labels).sum().item()"
      ],
      "execution_count": 0,
      "outputs": []
    },
    {
      "cell_type": "markdown",
      "metadata": {
        "id": "S4BF14KALySo",
        "colab_type": "text"
      },
      "source": [
        "## Fully Connected CNN"
      ]
    },
    {
      "cell_type": "code",
      "metadata": {
        "id": "DX9nsMPcFR6T",
        "colab_type": "code",
        "colab": {}
      },
      "source": [
        "class Network(nn.Module):\n",
        "    def __init__(self):\n",
        "        super(Network, self).__init__()\n",
        "        self.conv1 = nn.Conv2d(in_channels=1, out_channels=6, kernel_size=5)\n",
        "        self.conv2 = nn.Conv2d(in_channels=6, out_channels=12, kernel_size=5)\n",
        "        \n",
        "        self.fc1 = nn.Linear(in_features=12*4*4, out_features=120)\n",
        "        self.fc2 = nn.Linear(in_features=120, out_features=60)\n",
        "        self.out = nn.Linear(in_features=60, out_features=10)\n",
        "        \n",
        "    def forward(self, t):\n",
        "        # (1) input layer\n",
        "        t = t\n",
        "        \n",
        "        # (2) hidden conv layer\n",
        "        t = self.conv1(t)\n",
        "        t = F.relu(t)\n",
        "        t = F.max_pool2d(t, kernel_size=2, stride=2)\n",
        "        \n",
        "        # (3) hidden conv layer\n",
        "        t = self.conv2(t)\n",
        "        t = F.relu(t)\n",
        "        t = F.max_pool2d(t, kernel_size=2, stride=2)\n",
        "        \n",
        "        # (4) hidden linear layer\n",
        "        t = t.reshape(-1, 12 * 4 * 4)\n",
        "        t = self.fc1(t)\n",
        "        t = F.relu(t)\n",
        "        \n",
        "        # (5) hidden linear layer\n",
        "        t = self.fc2(t)\n",
        "        t = F.relu(t)\n",
        "        \n",
        "        # (6) output layer\n",
        "        t = self.out(t)\n",
        "        #t = F.softmax(t, dim=1)\n",
        "        \n",
        "        return t"
      ],
      "execution_count": 0,
      "outputs": []
    },
    {
      "cell_type": "markdown",
      "metadata": {
        "id": "k0VgoSijMHTf",
        "colab_type": "text"
      },
      "source": [
        "## Load data set "
      ]
    },
    {
      "cell_type": "code",
      "metadata": {
        "id": "Y9XoXxunMGrV",
        "colab_type": "code",
        "colab": {}
      },
      "source": [
        "train_set = torchvision.datasets.FashionMNIST(\n",
        "    root='./data'\n",
        "    ,train=True\n",
        "    ,download=True\n",
        "    ,transform=tranforms.Compose([\n",
        "        tranforms.ToTensor()\n",
        "    ])\n",
        ")"
      ],
      "execution_count": 0,
      "outputs": []
    },
    {
      "cell_type": "markdown",
      "metadata": {
        "id": "hwkseRrILmFp",
        "colab_type": "text"
      },
      "source": [
        "## Training with a Single batch"
      ]
    },
    {
      "cell_type": "code",
      "metadata": {
        "id": "gyu42rwaJDdY",
        "colab_type": "code",
        "colab": {
          "base_uri": "https://localhost:8080/",
          "height": 54
        },
        "outputId": "603aa1cb-a683-47d9-cb8c-3834ef4b642e"
      },
      "source": [
        "network = Network()\n",
        "\n",
        "train_loader = torch.utils.data.DataLoader(\n",
        "    train_set\n",
        "    ,batch_size=100\n",
        ")\n",
        "optimizer = optim.Adam(network.parameters(), lr=0.01)\n",
        "\n",
        "batch = next(iter(train_loader)) # Get Batch\n",
        "images, labels = batch \n",
        "\n",
        "preds = network(images) # Pass Batch\n",
        "loss = F.cross_entropy(preds, labels) # Calculate Loss\n",
        "\n",
        "loss.backward() # Calculate Gradients\n",
        "optimizer.step() # Update Weights\n",
        "\n",
        "\n",
        "print('loss 1:', loss.item())\n",
        "preds = network(images)\n",
        "loss = F.cross_entropy(preds, labels)\n",
        "print('loss 2:', loss.item())"
      ],
      "execution_count": 54,
      "outputs": [
        {
          "output_type": "stream",
          "text": [
            "loss 1: 2.292600631713867\n",
            "loss 2: 2.2792670726776123\n"
          ],
          "name": "stdout"
        }
      ]
    },
    {
      "cell_type": "markdown",
      "metadata": {
        "id": "QYgRBULjLHII",
        "colab_type": "text"
      },
      "source": [
        "## Training with multitle ephochs : The Complet etraining loop"
      ]
    },
    {
      "cell_type": "code",
      "metadata": {
        "id": "yz9JX8tuFIp_",
        "colab_type": "code",
        "colab": {
          "base_uri": "https://localhost:8080/",
          "height": 199
        },
        "outputId": "46766c68-6b26-4894-caef-c29b37c4fdda"
      },
      "source": [
        "network = Network()\n",
        "\n",
        "train_loader = torch.utils.data.DataLoader(\n",
        "    train_set\n",
        "    ,batch_size=100\n",
        "    ,shuffle=True\n",
        ")\n",
        "optimizer = optim.Adam(network.parameters(), lr=0.01)\n",
        "\n",
        "\n",
        "for epoch in range(10):\n",
        "\n",
        "    total_loss = 0\n",
        "    total_correct = 0\n",
        "\n",
        "    for batch in train_loader: # Get Batch\n",
        "        images, labels = batch \n",
        "\n",
        "        preds = network(images) # Pass Batch\n",
        "        loss = F.cross_entropy(preds, labels) # Calculate Loss\n",
        "\n",
        "        optimizer.zero_grad()\n",
        "        loss.backward() # Calculate Gradients\n",
        "        optimizer.step() # Update Weights\n",
        "\n",
        "        total_loss += loss.item()\n",
        "        total_correct += get_num_correct(preds, labels)\n",
        "\n",
        "    print(\n",
        "        \"epoch\", epoch, \n",
        "        \"total_correct:\", total_correct, \n",
        "        \"loss:\", total_loss\n",
        "    )"
      ],
      "execution_count": 55,
      "outputs": [
        {
          "output_type": "stream",
          "text": [
            "epoch 0 total_correct: 47367 loss: 331.27733567357063\n",
            "epoch 1 total_correct: 51486 loss: 227.72206424176693\n",
            "epoch 2 total_correct: 52201 loss: 208.65555331110954\n",
            "epoch 3 total_correct: 52579 loss: 200.81143063306808\n",
            "epoch 4 total_correct: 52835 loss: 193.1907076537609\n",
            "epoch 5 total_correct: 52968 loss: 191.2430875748396\n",
            "epoch 6 total_correct: 53133 loss: 184.7395621612668\n",
            "epoch 7 total_correct: 53249 loss: 183.85396520793438\n",
            "epoch 8 total_correct: 53313 loss: 180.6353891044855\n",
            "epoch 9 total_correct: 53436 loss: 178.67326836287975\n"
          ],
          "name": "stdout"
        }
      ]
    },
    {
      "cell_type": "code",
      "metadata": {
        "id": "BxqWEVaGFOyf",
        "colab_type": "code",
        "colab": {
          "base_uri": "https://localhost:8080/",
          "height": 35
        },
        "outputId": "b034133e-2d2d-4cab-ab04-a1a72ad76ff3"
      },
      "source": [
        "total_correct / len(train_set)"
      ],
      "execution_count": 56,
      "outputs": [
        {
          "output_type": "execute_result",
          "data": {
            "text/plain": [
              "0.8906"
            ]
          },
          "metadata": {
            "tags": []
          },
          "execution_count": 56
        }
      ]
    }
  ]
}