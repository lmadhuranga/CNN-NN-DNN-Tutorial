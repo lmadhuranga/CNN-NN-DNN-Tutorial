{
  "nbformat": 4,
  "nbformat_minor": 0,
  "metadata": {
    "colab": {
      "name": "Untitled4.ipynb",
      "version": "0.3.2",
      "provenance": [],
      "collapsed_sections": []
    },
    "kernelspec": {
      "name": "python3",
      "display_name": "Python 3"
    }
  },
  "cells": [
    {
      "cell_type": "markdown",
      "metadata": {
        "id": "QcCuQg_sLtSf",
        "colab_type": "text"
      },
      "source": [
        "# CNN Training with Fashion Data set - Pytorch A - Z"
      ]
    },
    {
      "cell_type": "code",
      "metadata": {
        "id": "5hx5mp8WFcVn",
        "colab_type": "code",
        "outputId": "c2d4849b-dd27-4840-ddb6-2b21f95f8f3a",
        "colab": {
          "base_uri": "https://localhost:8080/",
          "height": 35
        }
      },
      "source": [
        "import torch\n",
        "import torch.nn as nn \n",
        "import torch.nn.functional as F\n",
        "import torch.optim as optim\n",
        "\n",
        "import torchvision\n",
        "import torchvision.transforms as tranforms\n",
        "\n",
        "torch.set_printoptions(linewidth=120)  # Displa optin for output\n",
        "torch.set_grad_enabled(True) # Already on by default"
      ],
      "execution_count": 35,
      "outputs": [
        {
          "output_type": "execute_result",
          "data": {
            "text/plain": [
              "<torch.autograd.grad_mode.set_grad_enabled at 0x7f6c1ad883c8>"
            ]
          },
          "metadata": {
            "tags": []
          },
          "execution_count": 35
        }
      ]
    },
    {
      "cell_type": "code",
      "metadata": {
        "id": "nk-eQZlLHbDb",
        "colab_type": "code",
        "outputId": "46b79b48-9d53-4b70-bf86-194a37efb48c",
        "colab": {
          "base_uri": "https://localhost:8080/",
          "height": 54
        }
      },
      "source": [
        "print(torch.__version__)\n",
        "print(torchvision.__version__)"
      ],
      "execution_count": 36,
      "outputs": [
        {
          "output_type": "stream",
          "text": [
            "1.1.0\n",
            "0.3.0\n"
          ],
          "name": "stdout"
        }
      ]
    },
    {
      "cell_type": "code",
      "metadata": {
        "id": "6KJPGY6-HbAH",
        "colab_type": "code",
        "colab": {}
      },
      "source": [
        "def get_num_correct(preds, labels):\n",
        "    return preds.argmax(dim=1).eq(labels).sum().item()"
      ],
      "execution_count": 0,
      "outputs": []
    },
    {
      "cell_type": "markdown",
      "metadata": {
        "id": "S4BF14KALySo",
        "colab_type": "text"
      },
      "source": [
        "## Fully Connected CNN"
      ]
    },
    {
      "cell_type": "code",
      "metadata": {
        "id": "DX9nsMPcFR6T",
        "colab_type": "code",
        "colab": {}
      },
      "source": [
        "# class Network(nn.Module):\n",
        "#     def __init__(self):\n",
        "#         super(Network, self).__init__()\n",
        "#         self.conv1 = nn.Conv2d(in_channels=1, out_channels=6, kernel_size=5)\n",
        "#         self.conv2 = nn.Conv2d(in_channels=6, out_channels=12, kernel_size=5)\n",
        "        \n",
        "#         self.fc1 = nn.Linear(in_features=12*4*4, out_features=120)\n",
        "#         self.fc2 = nn.Linear(in_features=120, out_features=60)\n",
        "#         self.out = nn.Linear(in_features=60, out_features=10)\n",
        "        \n",
        "#     def forward(self, t):\n",
        "#         # (1) input layer\n",
        "#         t = t\n",
        "        \n",
        "#         # (2) hidden conv layer\n",
        "#         t = self.conv1(t)\n",
        "#         t = F.relu(t)\n",
        "#         t = F.max_pool2d(t, kernel_size=2, stride=2)\n",
        "        \n",
        "#         # (3) hidden conv layer\n",
        "#         t = self.conv2(t)\n",
        "#         t = F.relu(t)\n",
        "#         t = F.max_pool2d(t, kernel_size=2, stride=2)\n",
        "        \n",
        "#         # (4) hidden linear layer\n",
        "#         t = t.reshape(-1, 12 * 4 * 4)\n",
        "#         t = self.fc1(t)\n",
        "#         t = F.relu(t)\n",
        "        \n",
        "#         # (5) hidden linear layer\n",
        "#         t = self.fc2(t)\n",
        "#         t = F.relu(t)\n",
        "        \n",
        "#         # (6) output layer\n",
        "#         t = self.out(t)\n",
        "#         #t = F.softmax(t, dim=1)\n",
        "        \n",
        "#         return t"
      ],
      "execution_count": 0,
      "outputs": []
    },
    {
      "cell_type": "markdown",
      "metadata": {
        "id": "k0VgoSijMHTf",
        "colab_type": "text"
      },
      "source": [
        "## Load data set "
      ]
    },
    {
      "cell_type": "code",
      "metadata": {
        "id": "Y9XoXxunMGrV",
        "colab_type": "code",
        "colab": {}
      },
      "source": [
        "train_set = torchvision.datasets.FashionMNIST(\n",
        "    root='./data'\n",
        "    ,train=True\n",
        "    ,download=True\n",
        "    ,transform=tranforms.Compose([\n",
        "        tranforms.ToTensor()\n",
        "    ])\n",
        ")\n",
        "\n",
        "train_loader = torch.utils.data.DataLoader(\n",
        "    train_set\n",
        "    ,batch_size=64\n",
        "    ,shuffle=True\n",
        ")\n",
        "\n",
        "test_set = torchvision.datasets.FashionMNIST(\n",
        "    root='./data'\n",
        "    ,train=False\n",
        "    ,download=True\n",
        "    ,transform=tranforms.Compose([\n",
        "        tranforms.ToTensor()\n",
        "    ])\n",
        ")\n",
        "\n",
        "test_loader = torch.utils.data.DataLoader(\n",
        "    test_set\n",
        "    ,batch_size=64\n",
        "    ,shuffle=True\n",
        ")"
      ],
      "execution_count": 0,
      "outputs": []
    },
    {
      "cell_type": "markdown",
      "metadata": {
        "id": "hwkseRrILmFp",
        "colab_type": "text"
      },
      "source": [
        "## Training with a Single batch"
      ]
    },
    {
      "cell_type": "code",
      "metadata": {
        "id": "gyu42rwaJDdY",
        "colab_type": "code",
        "colab": {}
      },
      "source": [
        "# network = Network()\n",
        "\n",
        "# optimizer = optim.Adam(network.parameters(), lr=0.01)\n",
        "\n",
        "# batch = next(iter(train_loader)) # Get Batch\n",
        "# images, labels = batch \n",
        "\n",
        "# preds = network(images) # Pass Batch\n",
        "# loss = F.cross_entropy(preds, labels) # Calculate Loss\n",
        "\n",
        "# loss.backward() # Calculate Gradients\n",
        "# optimizer.step() # Update Weights\n",
        "\n",
        "\n",
        "# print('loss 1:', loss.item())\n",
        "# preds = network(images)\n",
        "# loss = F.cross_entropy(preds, labels)\n",
        "# print('loss 2:', loss.item())"
      ],
      "execution_count": 0,
      "outputs": []
    },
    {
      "cell_type": "markdown",
      "metadata": {
        "id": "QYgRBULjLHII",
        "colab_type": "text"
      },
      "source": [
        "## Training with multitle ephochs : The Complet etraining loop"
      ]
    },
    {
      "cell_type": "code",
      "metadata": {
        "id": "yz9JX8tuFIp_",
        "colab_type": "code",
        "colab": {}
      },
      "source": [
        "# network = Network()\n",
        "\n",
        "# optimizer = optim.Adam(network.parameters(), lr=0.01)\n",
        "\n",
        "# epochs = 1\n",
        "\n",
        "# for epoch in range(epochs):\n",
        "\n",
        "#     total_loss = 0\n",
        "#     total_correct = 0\n",
        "\n",
        "#     for batch in train_loader: # Get Batch\n",
        "#         images, labels = batch \n",
        "\n",
        "#         preds = network(images) # Pass Batch\n",
        "#         loss = F.cross_entropy(preds, labels) # Calculate Loss\n",
        "\n",
        "#         optimizer.zero_grad()\n",
        "#         loss.backward() # Calculate Gradients\n",
        "#         optimizer.step() # Update Weights\n",
        "\n",
        "#         total_loss += loss.item()\n",
        "#         total_correct += get_num_correct(preds, labels)\n",
        "\n",
        "#     print(\n",
        "#         \"epoch\", epoch, \n",
        "#         \"total_correct:\", total_correct, \n",
        "#         \"loss:\", total_loss,\n",
        "#         \"Loss % \", (total_correct / len(train_set))\n",
        "#     )"
      ],
      "execution_count": 0,
      "outputs": []
    },
    {
      "cell_type": "code",
      "metadata": {
        "id": "BxqWEVaGFOyf",
        "colab_type": "code",
        "colab": {}
      },
      "source": [
        "# total_correct / len(train_set)"
      ],
      "execution_count": 0,
      "outputs": []
    },
    {
      "cell_type": "markdown",
      "metadata": {
        "id": "7EmUEP0UOwOf",
        "colab_type": "text"
      },
      "source": [
        "## Udaicity - Solution2"
      ]
    },
    {
      "cell_type": "code",
      "metadata": {
        "id": "gL4y-K-kfDRg",
        "colab_type": "code",
        "colab": {}
      },
      "source": [
        "# transform = tranforms.Compose([tranforms.ToTensor(), tranforms.Normalize((0.5,0.5,0.5), (0.5,0.5,0.5))])\n",
        "transform = tranforms.Compose([tranforms.ToTensor()])\n",
        "\n",
        "train_set = torchvision.datasets.FashionMNIST(\n",
        "    root='./data'\n",
        "    ,train=True\n",
        "    ,download=True\n",
        "    ,transform=transform\n",
        ")\n",
        "\n",
        "train_loader = torch.utils.data.DataLoader(\n",
        "    train_set\n",
        "    ,batch_size=64\n",
        "    ,shuffle=True\n",
        ")\n",
        "\n",
        "test_set = torchvision.datasets.FashionMNIST(\n",
        "    root='./data'\n",
        "    ,train=False\n",
        "    ,download=True\n",
        "    ,transform=transform\n",
        ")\n",
        "\n",
        "test_loader = torch.utils.data.DataLoader(\n",
        "    test_set\n",
        "    ,batch_size=64\n",
        "    ,shuffle=True\n",
        ")"
      ],
      "execution_count": 0,
      "outputs": []
    },
    {
      "cell_type": "code",
      "metadata": {
        "id": "JOSa8m0wO0KC",
        "colab_type": "code",
        "colab": {}
      },
      "source": [
        "class Classifier(nn.Module):\n",
        "    def __init__(self):\n",
        "        super().__init__()\n",
        "        self.fc1 = nn.Linear(784, 256)\n",
        "        self.fc2 = nn.Linear(256, 128)\n",
        "        self.fc3 = nn.Linear(128,  64)\n",
        "        self.fc4 = nn.Linear(64, 10)\n",
        "        \n",
        "        # Dropout moduel with 0.2 drop probability\n",
        "        self.dropout = nn.Dropout(p=0.2)\n",
        "        \n",
        "    def forward(self, x):\n",
        "        # make sure input tensor is flattented\n",
        "        x = x.view(x.shape[0], -1)\n",
        "\n",
        "        # Now with dropout\n",
        "        x = self.dropout(F.relu(self.fc1(x)))\n",
        "        x = self.dropout(F.relu(self.fc2(x)))\n",
        "        x = self.dropout(F.relu(self.fc3(x)))\n",
        "        \n",
        "        # Output so no dropout here\n",
        "        x = F.log_softmax(self.fc4(x), dim=1)\n",
        "\n",
        "        return x\n",
        "            "
      ],
      "execution_count": 0,
      "outputs": []
    },
    {
      "cell_type": "code",
      "metadata": {
        "id": "qRrB5ImCQQDJ",
        "colab_type": "code",
        "colab": {}
      },
      "source": [
        "model = Classifier()\n",
        "criterion = nn.NLLLoss()\n",
        "optimizer = optim.Adam(model.parameters(), lr=0.003)"
      ],
      "execution_count": 0,
      "outputs": []
    },
    {
      "cell_type": "code",
      "metadata": {
        "id": "IkL_q-UTQf5g",
        "colab_type": "code",
        "colab": {
          "base_uri": "https://localhost:8080/",
          "height": 563
        },
        "outputId": "f165a2e1-42eb-458b-f8c5-b564f619f310"
      },
      "source": [
        "\n",
        "epochs = 30\n",
        "steps = 0\n",
        "train_losses, test_losses = [], []\n",
        "for e in range(epochs):\n",
        "    running_loss = 0\n",
        "    for images, labels in train_loader:\n",
        "        logps = model(images)\n",
        "        loss = criterion(logps, labels)\n",
        "        \n",
        "        optimizer.zero_grad()\n",
        "        loss.backward()\n",
        "        optimizer.step()\n",
        "        \n",
        "        running_loss += loss.item()\n",
        "    else:\n",
        "        \n",
        "        test_loss = 0\n",
        "        accuracy = 0\n",
        "        # Trun off gradionts for validation, saves memeory and computations\n",
        "        with torch.no_grad():\n",
        "            model.eval()\n",
        "            for images, labels in test_loader:\n",
        "                log_ps = model(images)\n",
        "                test_loss += criterion(log_ps, labels)\n",
        "                \n",
        "                ps =  torch.exp(log_ps)\n",
        "                top_p, top_class = ps.topk(1, dim=1)\n",
        "                equals = top_class == labels.view(*top_class.shape)\n",
        "                accuracy += torch.mean(equals.type(torch.FloatTensor))\n",
        "                \n",
        "        model.train()\n",
        "        train_losses.append(running_loss/len(train_loader))\n",
        "        test_losses.append(test_loss/len(test_loader))\n",
        "        \n",
        "        print(\"Epoch: {}/{}.. \".format(e+1, epochs),\n",
        "              \"Training Loss: {:.3f}.. \".format(running_loss/len(train_loader)),\n",
        "              \"Test Loss: {:.3f}.. \".format(test_loss/len(test_loader)),\n",
        "              \"Test Accuracy: {:.3f}\".format(accuracy/len(test_loader))\n",
        "             )"
      ],
      "execution_count": 46,
      "outputs": [
        {
          "output_type": "stream",
          "text": [
            "Epoch: 1/30..  Training Loss: 0.605..  Test Loss: 0.459..  Test Accuracy: 0.831\n",
            "Epoch: 2/30..  Training Loss: 0.451..  Test Loss: 0.418..  Test Accuracy: 0.854\n",
            "Epoch: 3/30..  Training Loss: 0.420..  Test Loss: 0.382..  Test Accuracy: 0.862\n",
            "Epoch: 4/30..  Training Loss: 0.405..  Test Loss: 0.411..  Test Accuracy: 0.852\n",
            "Epoch: 5/30..  Training Loss: 0.385..  Test Loss: 0.381..  Test Accuracy: 0.864\n",
            "Epoch: 6/30..  Training Loss: 0.380..  Test Loss: 0.397..  Test Accuracy: 0.864\n",
            "Epoch: 7/30..  Training Loss: 0.372..  Test Loss: 0.378..  Test Accuracy: 0.866\n",
            "Epoch: 8/30..  Training Loss: 0.366..  Test Loss: 0.384..  Test Accuracy: 0.864\n",
            "Epoch: 9/30..  Training Loss: 0.359..  Test Loss: 0.359..  Test Accuracy: 0.871\n",
            "Epoch: 10/30..  Training Loss: 0.354..  Test Loss: 0.359..  Test Accuracy: 0.866\n",
            "Epoch: 11/30..  Training Loss: 0.344..  Test Loss: 0.356..  Test Accuracy: 0.876\n",
            "Epoch: 12/30..  Training Loss: 0.343..  Test Loss: 0.371..  Test Accuracy: 0.875\n",
            "Epoch: 13/30..  Training Loss: 0.348..  Test Loss: 0.379..  Test Accuracy: 0.865\n",
            "Epoch: 14/30..  Training Loss: 0.340..  Test Loss: 0.354..  Test Accuracy: 0.875\n",
            "Epoch: 15/30..  Training Loss: 0.336..  Test Loss: 0.364..  Test Accuracy: 0.873\n",
            "Epoch: 16/30..  Training Loss: 0.333..  Test Loss: 0.355..  Test Accuracy: 0.865\n",
            "Epoch: 17/30..  Training Loss: 0.331..  Test Loss: 0.356..  Test Accuracy: 0.877\n",
            "Epoch: 18/30..  Training Loss: 0.335..  Test Loss: 0.368..  Test Accuracy: 0.874\n",
            "Epoch: 19/30..  Training Loss: 0.322..  Test Loss: 0.362..  Test Accuracy: 0.873\n",
            "Epoch: 20/30..  Training Loss: 0.327..  Test Loss: 0.359..  Test Accuracy: 0.879\n",
            "Epoch: 21/30..  Training Loss: 0.327..  Test Loss: 0.359..  Test Accuracy: 0.880\n",
            "Epoch: 22/30..  Training Loss: 0.320..  Test Loss: 0.368..  Test Accuracy: 0.878\n",
            "Epoch: 23/30..  Training Loss: 0.321..  Test Loss: 0.354..  Test Accuracy: 0.877\n",
            "Epoch: 24/30..  Training Loss: 0.310..  Test Loss: 0.366..  Test Accuracy: 0.879\n",
            "Epoch: 25/30..  Training Loss: 0.317..  Test Loss: 0.368..  Test Accuracy: 0.875\n",
            "Epoch: 26/30..  Training Loss: 0.314..  Test Loss: 0.349..  Test Accuracy: 0.880\n",
            "Epoch: 27/30..  Training Loss: 0.312..  Test Loss: 0.372..  Test Accuracy: 0.873\n",
            "Epoch: 28/30..  Training Loss: 0.303..  Test Loss: 0.377..  Test Accuracy: 0.870\n",
            "Epoch: 29/30..  Training Loss: 0.312..  Test Loss: 0.357..  Test Accuracy: 0.880\n",
            "Epoch: 30/30..  Training Loss: 0.303..  Test Loss: 0.355..  Test Accuracy: 0.879\n"
          ],
          "name": "stdout"
        }
      ]
    },
    {
      "cell_type": "code",
      "metadata": {
        "id": "XkBp6Gc_XDDM",
        "colab_type": "code",
        "colab": {
          "base_uri": "https://localhost:8080/",
          "height": 285
        },
        "outputId": "e93c5d9e-d3c8-4c30-edaf-5ff77982e5fc"
      },
      "source": [
        "%matplotlib inline\n",
        "%config InlineBackend.figure_format = 'retina'\n",
        "\n",
        "import matplotlib.pyplot as plt\n",
        "\n",
        "plt.plot(train_losses, label='Training loss')\n",
        "plt.plot(test_losses, label='validation loss')\n",
        "plt.legend(frameon=False)"
      ],
      "execution_count": 68,
      "outputs": [
        {
          "output_type": "execute_result",
          "data": {
            "text/plain": [
              "<matplotlib.legend.Legend at 0x7f6c1af584a8>"
            ]
          },
          "metadata": {
            "tags": []
          },
          "execution_count": 68
        },
        {
          "output_type": "display_data",
          "data": {
            "image/png": "[encoded data removed]",
            "text/plain": [
              "<Figure size 432x288 with 1 Axes>"
            ]
          },
          "metadata": {
            "tags": [],
            "image/png": {
              "width": 380,
              "height": 250
            }
          }
        }
      ]
    }
  ]
}
